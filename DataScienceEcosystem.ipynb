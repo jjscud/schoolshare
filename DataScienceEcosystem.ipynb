{
 "cells": [
  {
   "cell_type": "markdown",
   "id": "d509bc23",
   "metadata": {},
   "source": [
    "# Data Science Tools and Ecosystem"
   ]
  },
  {
   "cell_type": "markdown",
   "id": "ba166796",
   "metadata": {},
   "source": [
    "In this notebook, Data Science Tools and Ecosystem are summarized."
   ]
  },
  {
   "cell_type": "markdown",
   "id": "869a2c00",
   "metadata": {},
   "source": [
    "**Objectives:**\n",
    "* List Data Science Languages\n",
    "* List Common Data Science Libraries\n",
    "* List Open Source Data Science Environments\n",
    "* Evaluate Simple Python Expressions\n",
    "* Practice Markdown"
   ]
  },
  {
   "cell_type": "markdown",
   "id": "7b2c24db",
   "metadata": {},
   "source": [
    "## Author\n",
    "Jeff Roth"
   ]
  },
  {
   "cell_type": "markdown",
   "id": "4b2c7b63",
   "metadata": {},
   "source": [
    "Some of the popular languages that Data Scientists use are:\n",
    "1. Python\n",
    "1. R\n",
    "1. Java\n",
    "1. Scala\n"
   ]
  },
  {
   "cell_type": "markdown",
   "id": "ace77f59",
   "metadata": {},
   "source": [
    "Some of the commonly used libraries used by Data Scientists include:\n",
    "1. Pandas\n",
    "1. NumPy\n",
    "1. Matplotlib\n",
    "1. Scikit\n",
    "1. PyTorch\n",
    "1. ggplot2\n",
    "1. Vegas"
   ]
  },
  {
   "cell_type": "markdown",
   "id": "c8500746",
   "metadata": {},
   "source": [
    "| Data Science Tools |\n",
    "| ------------------ |\n",
    "| Jupyter Notebooks |\n",
    "| Apache Zeppelin |\n",
    "| R Studio |"
   ]
  },
  {
   "cell_type": "markdown",
   "id": "61e1c176",
   "metadata": {},
   "source": [
    "### Below are a few examples of evaluating arithmetic expressions in Python"
   ]
  },
  {
   "cell_type": "markdown",
   "id": "3cee2823",
   "metadata": {},
   "source": [
    "This a simple arithmetic expression to mutiply then add integers"
   ]
  },
  {
   "cell_type": "code",
   "execution_count": 2,
   "id": "1320cfcd",
   "metadata": {},
   "outputs": [
    {
     "data": {
      "text/plain": [
       "17"
      ]
     },
     "execution_count": 2,
     "metadata": {},
     "output_type": "execute_result"
    }
   ],
   "source": [
    "(3*4)+5"
   ]
  },
  {
   "cell_type": "code",
   "execution_count": 3,
   "id": "91b68d7b",
   "metadata": {},
   "outputs": [
    {
     "data": {
      "text/plain": [
       "3.3333333333333335"
      ]
     },
     "execution_count": 3,
     "metadata": {},
     "output_type": "execute_result"
    }
   ],
   "source": [
    "minutes = 200\n",
    "hours = minutes / 60\n",
    "hours"
   ]
  },
  {
   "cell_type": "markdown",
   "id": "f24d524c",
   "metadata": {},
   "source": [
    "This will convert 200 minutes to hours by diving by 60"
   ]
  },
  {
   "cell_type": "code",
   "execution_count": null,
   "id": "4d9139aa",
   "metadata": {},
   "outputs": [],
   "source": []
  }
 ],
 "metadata": {
  "kernelspec": {
   "display_name": "Python 3 (ipykernel)",
   "language": "python",
   "name": "python3"
  },
  "language_info": {
   "codemirror_mode": {
    "name": "ipython",
    "version": 3
   },
   "file_extension": ".py",
   "mimetype": "text/x-python",
   "name": "python",
   "nbconvert_exporter": "python",
   "pygments_lexer": "ipython3",
   "version": "3.11.3"
  }
 },
 "nbformat": 4,
 "nbformat_minor": 5
}
